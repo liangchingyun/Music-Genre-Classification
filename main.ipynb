{
 "cells": [
  {
   "cell_type": "code",
   "execution_count": 1,
   "id": "cd5bef46b51194f4",
   "metadata": {
    "ExecuteTime": {
     "end_time": "2024-05-02T05:09:44.334874Z",
     "start_time": "2024-05-02T05:09:43.602752Z"
    },
    "collapsed": false
   },
   "outputs": [],
   "source": [
    "import os\n",
    "import librosa\n",
    "import numpy as np\n",
    "import cv2\n",
    "import time\n",
    "from sklearn.neighbors import KNeighborsClassifier\n",
    "from sklearn import svm\n",
    "from sklearn.ensemble import RandomForestClassifier\n",
    "from sklearn.cluster import KMeans\n",
    "from sklearn.metrics import f1_score, accuracy_score"
   ]
  },
  {
   "cell_type": "code",
   "execution_count": 50,
   "id": "a27ad72bcfebdb6a",
   "metadata": {
    "collapsed": false,
    "is_executing": true
   },
   "outputs": [],
   "source": [
    "def Data_Processing():\n",
    "    # train test split percentage -> 80% train, 20% test\n",
    "    dd = os.listdir(\"dataset\")\n",
    "    dd.remove('.DS_Store')\n",
    "    \n",
    "    folds = ['fold_1.txt', 'fold_2.txt', 'fold_3.txt', 'fold_4.txt', 'fold_5.txt']\n",
    "    \n",
    "    for i in range(len(dd)):\n",
    "        d2 = os.listdir(\"dataset/%s/\" % (dd[i]))\n",
    "        d2.remove('.DS_Store')\n",
    "        for j in range(len(folds)):\n",
    "            if i == 0:\n",
    "                f = open(folds[j], 'w')\n",
    "            else:\n",
    "                f = open(folds[j], 'a')\n",
    "                \n",
    "            for k in range(j * 10, j * 10 + 10):\n",
    "                str = \"dataset/%s/%s\" % (dd[i], d2[k])\n",
    "                f.write(\"%s %d\\n\" % (str, i)) \n",
    "            f.close()\n",
    "                \n",
    "    for i in range(len(folds)):\n",
    "        # testing data\n",
    "        with open('fold_%d.txt' % (i+1), 'r') as input_file:\n",
    "            content = input_file.read()\n",
    "        with open('test_%d.txt' % (i+1), 'w') as output_file:\n",
    "            output_file.write(content)\n",
    "            \n",
    "        # training data\n",
    "        n = 0\n",
    "        for file in folds:\n",
    "            if file != 'fold_%d.txt' % (i+1):\n",
    "                with open(file, \"r\") as input_file:\n",
    "                    content = input_file.read()\n",
    "                if n == 0:\n",
    "                    with open('train_%d.txt' % (i+1), 'w') as output_file:\n",
    "                        output_file.write(content)\n",
    "                else:\n",
    "                    with open('train_%d.txt' % (i+1), 'a') as output_file:\n",
    "                        output_file.write(content)\n",
    "                n += 1\n",
    "\n",
    "Data_Processing()"
   ]
  },
  {
   "cell_type": "markdown",
   "id": "a897ce0d",
   "metadata": {},
   "source": [
    "Feature Extraction "
   ]
  },
  {
   "cell_type": "code",
   "execution_count": 98,
   "id": "9bef61aa",
   "metadata": {},
   "outputs": [],
   "source": [
    "def Feature_Extraction_Model(file_path, method, max_pad_len=11):         \n",
    "    wave, sr = librosa.load(file_path, mono=True, sr=None)\n",
    "    wave = wave[::3]\n",
    "    # cut audio file\n",
    "    i = 0\n",
    "    # 訓練資料的長度 (Drew:重點!)\n",
    "    wav_length = 5334\n",
    "    # 聲音檔過長，擷取片段\n",
    "    if len(wave) > wav_length:\n",
    "        # 尋找最大聲的點，取前後各半\n",
    "        i = np.argmax(wave)\n",
    "        if i > (wav_length):\n",
    "            wave = wave[i-int(wav_length/2):i+int(wav_length/2)]\n",
    "        else:\n",
    "            wave = wave[0:wav_length]\n",
    "  \n",
    "    if method == 'Wav2MFCC':\n",
    "        feature = librosa.feature.mfcc(y=wave, sr=sr)\n",
    "    elif method == 'MelSpec':\n",
    "        feature = librosa.feature.melspectrogram(y=wave, sr=sr)\n",
    "    elif method == 'SpecContrast':\n",
    "        feature = librosa.feature.spectral_contrast(y=wave)\n",
    "    elif method == 'ZeroCross':\n",
    "        feature = librosa.feature.zero_crossing_rate(y=wave)\n",
    "    elif method == 'ChromaSTFT':\n",
    "        feature = librosa.feature.chroma_stft(y=wave)\n",
    "    \n",
    "    \n",
    "    pad_width = max_pad_len - feature.shape[1]\n",
    "    if pad_width < 0:\n",
    "        pad_width = 0\n",
    "        feature = feature[:, :11]\n",
    "    feature = np.pad(feature, pad_width=((0, 0), (0, pad_width)),\n",
    "                  mode='constant')    # Drew: 邊緣填充, 避免邊緣訊息遺失\n",
    "    return feature"
   ]
  },
  {
   "cell_type": "markdown",
   "id": "2ac748c3",
   "metadata": {},
   "source": [
    "Classfication Models"
   ]
  },
  {
   "cell_type": "code",
   "execution_count": 63,
   "id": "f5ae8dd52a659037",
   "metadata": {
    "collapsed": false
   },
   "outputs": [],
   "source": [
    "def KNN(x, y, tx, ty):\n",
    "    knn = KNeighborsClassifier(n_neighbors=5)\n",
    "    knn.fit(x,y)\n",
    "    pred = knn.predict(tx)\n",
    "    return accuracy_score(ty, pred)\n",
    "\n",
    "def SVM(x, y, tx, ty):\n",
    "    clf = svm.SVC(kernel=\"rbf\", C=1.0, gamma=\"scale\", random_state=42)\n",
    "    clf.fit(x, y)\n",
    "    pred = clf.predict(tx)\n",
    "    return accuracy_score(ty, pred)\n",
    "\n",
    "def Random_Forest(x, y, tx, ty):\n",
    "    clf = RandomForestClassifier()\n",
    "    clf.fit(x, y)\n",
    "    pred = clf.predict(tx)\n",
    "    return accuracy_score(ty, pred)"
   ]
  },
  {
   "cell_type": "markdown",
   "id": "c3267e2f",
   "metadata": {},
   "source": [
    "Load Audio"
   ]
  },
  {
   "cell_type": "code",
   "execution_count": 71,
   "id": "ddca42fe",
   "metadata": {},
   "outputs": [],
   "source": [
    "def load_audio(f, method):\n",
    "    t = 0\n",
    "    f=open(f)\n",
    "    lines=f.readlines()\n",
    "    audios, lab=[], []\n",
    "\n",
    "    for i in range(len(lines)):\n",
    "        fn, label = lines[i].split(' ')\n",
    "        \n",
    "        audio = Feature_Extraction_Model(fn, method)\n",
    "\n",
    "        if audio is not None:  \n",
    "            vec = np.reshape(audio, [-1]) #展平為一維向量\n",
    "            audios.append(vec) \n",
    "            lab.append(int(label))\n",
    "\n",
    "        t += 1\n",
    "        print('\\r' + '[Progress]:|%s%s|%.2f%%;' % ('█' * int(t * 20 / len(lines)), ' ' * (20 - int(t * 20 / len(lines))), float(t / len(lines) * 100)), end='')\n",
    "\n",
    "    audios= np.asarray(audios, np.float32)\n",
    "    lab= np.asarray(lab, np.int32)\n",
    "    return audios, lab\n",
    "\n"
   ]
  },
  {
   "cell_type": "markdown",
   "id": "89c4c5f5",
   "metadata": {},
   "source": [
    "Start Training"
   ]
  },
  {
   "cell_type": "code",
   "execution_count": 102,
   "id": "653894ad",
   "metadata": {},
   "outputs": [
    {
     "name": "stdout",
     "output_type": "stream",
     "text": [
      "[Progress]:|████████████████████|100.00%;\n",
      "Accuracy:  0.462\n",
      "Time: 51.540742 sec\n"
     ]
    }
   ],
   "source": [
    "start = time.time()\n",
    "\n",
    "accuracy = []\n",
    "for i in range(5):\n",
    "    x, y = load_audio('train_%d.txt' % (i+1), 'Wav2MFCC')\n",
    "    tx, ty = load_audio('test_%d.txt' % (i+1), 'Wav2MFCC')\n",
    "    #x, y = load_audio('train_%d.txt' % (i+1), 'MelSpec')\n",
    "    #tx, ty = load_audio('test_%d.txt' % (i+1), 'MelSpec')\n",
    "    #x, y = load_audio('train_%d.txt' % (i+1), 'SpecContrast')\n",
    "    #tx, ty = load_audio('test_%d.txt' % (i+1), 'SpecContrast')\n",
    "    #x, y = load_audio('train_%d.txt' % (i+1), 'ZeroCross')\n",
    "    #tx, ty = load_audio('test_%d.txt' % (i+1), 'ZeroCross')\n",
    "    #x, y = load_audio('train_%d.txt' % (i+1), 'ChromaSTFT')\n",
    "    #tx, ty = load_audio('test_%d.txt' % (i+1), 'ChromaSTFT')\n",
    "\n",
    "\n",
    "    #accuracy.append(KNN(x, y, tx, ty))\n",
    "    #accuracy.append(SVM(x, y, tx, ty))\n",
    "    accuracy.append(Random_Forest(x, y, tx, ty))\n",
    "\n",
    "end = time.time()\n",
    "\n",
    "print('\\nAccuracy: ', np.mean(accuracy))\n",
    "print('Time: %f sec' %(end - start))"
   ]
  }
 ],
 "metadata": {
  "kernelspec": {
   "display_name": "Python 3",
   "language": "python",
   "name": "python3"
  },
  "language_info": {
   "codemirror_mode": {
    "name": "ipython",
    "version": 3
   },
   "file_extension": ".py",
   "mimetype": "text/x-python",
   "name": "python",
   "nbconvert_exporter": "python",
   "pygments_lexer": "ipython3",
   "version": "3.8.18"
  }
 },
 "nbformat": 4,
 "nbformat_minor": 5
}
