{
 "cells": [
  {
   "cell_type": "code",
   "execution_count": 7,
   "id": "cd5bef46b51194f4",
   "metadata": {
    "ExecuteTime": {
     "end_time": "2024-05-02T05:09:44.334874Z",
     "start_time": "2024-05-02T05:09:43.602752Z"
    },
    "collapsed": false
   },
   "outputs": [],
   "source": [
    "import librosa\n",
    "import numpy as np\n",
    "import time\n",
    "from sklearn.neighbors import KNeighborsClassifier\n",
    "from sklearn import svm\n",
    "from sklearn.ensemble import RandomForestClassifier\n",
    "from sklearn.cluster import KMpip eans\n",
    "from sklearn.metrics import f1_score, accuracy_score\n",
    "from sklearn.preprocessing import StandardScaler"
   ]
  },
  {
   "cell_type": "markdown",
   "id": "a897ce0d",
   "metadata": {},
   "source": [
    "Feature Extraction "
   ]
  },
  {
   "cell_type": "code",
   "execution_count": 8,
   "id": "9bef61aa",
   "metadata": {},
   "outputs": [],
   "source": [
    "def Feature_Extraction_Model(file_path, method, max_pad_len=11):         \n",
    "    wave, sr = librosa.load(file_path)\n",
    "\n",
    "    shift = np.random.uniform(-0.2, 0.2) * len(wave)\n",
    "    wave =  np.roll(wave, int(shift))\n",
    "\n",
    "    # cut audio file\n",
    "    i = 0\n",
    "    wav_length = 5334 # length of training data\n",
    "    # if the audio file is too long, extract a segment.\n",
    "    if len(wave) > wav_length:\n",
    "        # take the segments near the loudest point.\n",
    "        i = np.argmax(wave)\n",
    "        if i > (wav_length):\n",
    "            wave = wave[i-int(wav_length/2):i+int(wav_length/2)]\n",
    "        else:\n",
    "            wave = wave[0:wav_length]\n",
    "\n",
    "    if method == 'Wav2MFCC':\n",
    "        feature = librosa.feature.mfcc(y=wave, sr=sr)\n",
    "    elif method == 'MelSpec':\n",
    "        feature = librosa.feature.melspectrogram(y=wave, sr=sr)\n",
    "    elif method == 'SpecContrast':\n",
    "        feature = librosa.feature.spectral_contrast(y=wave)\n",
    "    elif method == 'ZeroCross':\n",
    "        feature = librosa.feature.zero_crossing_rate(y=wave)\n",
    "    elif method == 'ChromaSTFT':\n",
    "        feature = librosa.feature.chroma_stft(y=wave)\n",
    "    \n",
    "    pad_width = max_pad_len - feature.shape[1]\n",
    "    if pad_width < 0:\n",
    "        pad_width = 0\n",
    "        feature = feature[:, :11]\n",
    "    feature = np.pad(feature, pad_width=((0, 0), (0, pad_width)),\n",
    "                  mode='constant')    # edge padding, avoid loss of edge information.\n",
    "    \n",
    "    return feature"
   ]
  },
  {
   "cell_type": "markdown",
   "id": "2ac748c3",
   "metadata": {},
   "source": [
    "Classfication Models"
   ]
  },
  {
   "cell_type": "code",
   "execution_count": 9,
   "id": "f5ae8dd52a659037",
   "metadata": {
    "collapsed": false
   },
   "outputs": [],
   "source": [
    "def KNN(x, y, tx, ty):\n",
    "    knn = KNeighborsClassifier(n_neighbors=5)\n",
    "    knn.fit(x,y)\n",
    "    pred = knn.predict(tx)\n",
    "    return accuracy_score(ty, pred)\n",
    "\n",
    "def SVM(x, y, tx, ty):\n",
    "    clf = svm.SVC(kernel=\"rbf\", C=1.0, gamma=\"scale\", random_state=42)\n",
    "    clf.fit(x, y)\n",
    "    pred = clf.predict(tx)\n",
    "    return accuracy_score(ty, pred)\n",
    "\n",
    "def Random_Forest(x, y, tx, ty):\n",
    "    clf = RandomForestClassifier()\n",
    "    clf.fit(x, y)\n",
    "    pred = clf.predict(tx)\n",
    "    return accuracy_score(ty, pred)"
   ]
  },
  {
   "cell_type": "markdown",
   "id": "c3267e2f",
   "metadata": {},
   "source": [
    "Load Audio"
   ]
  },
  {
   "cell_type": "code",
   "execution_count": 10,
   "id": "ddca42fe",
   "metadata": {},
   "outputs": [],
   "source": [
    "def load_audio(f, method):\n",
    "    \n",
    "    f=open(f)\n",
    "    lines=f.readlines()\n",
    "    audios, lab=[], []\n",
    "\n",
    "    for i in range(len(lines)):\n",
    "        fn, label = lines[i].split(' ')\n",
    "        \n",
    "        audio = Feature_Extraction_Model(fn, method)\n",
    "\n",
    "        if audio is not None:  \n",
    "            vec = np.reshape(audio, [-1]) # flatten into 1D vector.\n",
    "            audios.append(vec) \n",
    "            lab.append(int(label))\n",
    "\n",
    "        \n",
    "    audios= np.asarray(audios, np.float32)\n",
    "    lab= np.asarray(lab, np.int32)\n",
    "\n",
    "    scaler = StandardScaler()\n",
    "    audios = scaler.fit_transform(audios)\n",
    "    return audios, lab\n",
    "\n"
   ]
  },
  {
   "cell_type": "markdown",
   "id": "89c4c5f5",
   "metadata": {},
   "source": [
    "Start Training"
   ]
  },
  {
   "cell_type": "code",
   "execution_count": 11,
   "id": "653894ad",
   "metadata": {},
   "outputs": [
    {
     "name": "stderr",
     "output_type": "stream",
     "text": [
      "\n",
      "A module that was compiled using NumPy 1.x cannot be run in\n",
      "NumPy 2.0.0 as it may crash. To support both 1.x and 2.x\n",
      "versions of NumPy, modules must be compiled with NumPy 2.0.\n",
      "Some module may need to rebuild instead e.g. with 'pybind11>=2.12'.\n",
      "\n",
      "If you are a user of the module, the easiest solution will be to\n",
      "downgrade to 'numpy<2' or try to upgrade the affected module.\n",
      "We expect that some modules will need time to support NumPy 2.\n",
      "\n",
      "Traceback (most recent call last):  File \"<frozen runpy>\", line 198, in _run_module_as_main\n",
      "  File \"<frozen runpy>\", line 88, in _run_code\n",
      "  File \"c:\\Users\\user\\anaconda3\\envs\\Multimedia\\Lib\\site-packages\\ipykernel_launcher.py\", line 18, in <module>\n",
      "    app.launch_new_instance()\n",
      "  File \"c:\\Users\\user\\anaconda3\\envs\\Multimedia\\Lib\\site-packages\\traitlets\\config\\application.py\", line 1075, in launch_instance\n",
      "    app.start()\n",
      "  File \"c:\\Users\\user\\anaconda3\\envs\\Multimedia\\Lib\\site-packages\\ipykernel\\kernelapp.py\", line 739, in start\n",
      "    self.io_loop.start()\n",
      "  File \"c:\\Users\\user\\anaconda3\\envs\\Multimedia\\Lib\\site-packages\\tornado\\platform\\asyncio.py\", line 205, in start\n",
      "    self.asyncio_loop.run_forever()\n",
      "  File \"c:\\Users\\user\\anaconda3\\envs\\Multimedia\\Lib\\asyncio\\base_events.py\", line 608, in run_forever\n",
      "    self._run_once()\n",
      "  File \"c:\\Users\\user\\anaconda3\\envs\\Multimedia\\Lib\\asyncio\\base_events.py\", line 1936, in _run_once\n",
      "    handle._run()\n",
      "  File \"c:\\Users\\user\\anaconda3\\envs\\Multimedia\\Lib\\asyncio\\events.py\", line 84, in _run\n",
      "    self._context.run(self._callback, *self._args)\n",
      "  File \"c:\\Users\\user\\anaconda3\\envs\\Multimedia\\Lib\\site-packages\\ipykernel\\kernelbase.py\", line 545, in dispatch_queue\n",
      "    await self.process_one()\n",
      "  File \"c:\\Users\\user\\anaconda3\\envs\\Multimedia\\Lib\\site-packages\\ipykernel\\kernelbase.py\", line 534, in process_one\n",
      "    await dispatch(*args)\n",
      "  File \"c:\\Users\\user\\anaconda3\\envs\\Multimedia\\Lib\\site-packages\\ipykernel\\kernelbase.py\", line 437, in dispatch_shell\n",
      "    await result\n",
      "  File \"c:\\Users\\user\\anaconda3\\envs\\Multimedia\\Lib\\site-packages\\ipykernel\\ipkernel.py\", line 362, in execute_request\n",
      "    await super().execute_request(stream, ident, parent)\n",
      "  File \"c:\\Users\\user\\anaconda3\\envs\\Multimedia\\Lib\\site-packages\\ipykernel\\kernelbase.py\", line 778, in execute_request\n",
      "    reply_content = await reply_content\n",
      "  File \"c:\\Users\\user\\anaconda3\\envs\\Multimedia\\Lib\\site-packages\\ipykernel\\ipkernel.py\", line 449, in do_execute\n",
      "    res = shell.run_cell(\n",
      "  File \"c:\\Users\\user\\anaconda3\\envs\\Multimedia\\Lib\\site-packages\\ipykernel\\zmqshell.py\", line 549, in run_cell\n",
      "    return super().run_cell(*args, **kwargs)\n",
      "  File \"c:\\Users\\user\\anaconda3\\envs\\Multimedia\\Lib\\site-packages\\IPython\\core\\interactiveshell.py\", line 3075, in run_cell\n",
      "    result = self._run_cell(\n",
      "  File \"c:\\Users\\user\\anaconda3\\envs\\Multimedia\\Lib\\site-packages\\IPython\\core\\interactiveshell.py\", line 3130, in _run_cell\n",
      "    result = runner(coro)\n",
      "  File \"c:\\Users\\user\\anaconda3\\envs\\Multimedia\\Lib\\site-packages\\IPython\\core\\async_helpers.py\", line 129, in _pseudo_sync_runner\n",
      "    coro.send(None)\n",
      "  File \"c:\\Users\\user\\anaconda3\\envs\\Multimedia\\Lib\\site-packages\\IPython\\core\\interactiveshell.py\", line 3334, in run_cell_async\n",
      "    has_raised = await self.run_ast_nodes(code_ast.body, cell_name,\n",
      "  File \"c:\\Users\\user\\anaconda3\\envs\\Multimedia\\Lib\\site-packages\\IPython\\core\\interactiveshell.py\", line 3517, in run_ast_nodes\n",
      "    if await self.run_code(code, result, async_=asy):\n",
      "  File \"c:\\Users\\user\\anaconda3\\envs\\Multimedia\\Lib\\site-packages\\IPython\\core\\interactiveshell.py\", line 3577, in run_code\n",
      "    exec(code_obj, self.user_global_ns, self.user_ns)\n",
      "  File \"C:\\Users\\user\\AppData\\Local\\Temp\\ipykernel_13012\\4215442401.py\", line 7, in <module>\n",
      "    x, y = load_audio('train_test_data/train_%d.txt' % (i+1), 'SpecContrast')\n",
      "  File \"C:\\Users\\user\\AppData\\Local\\Temp\\ipykernel_13012\\629124459.py\", line 10, in load_audio\n",
      "    audio = Feature_Extraction_Model(fn, method)\n",
      "  File \"C:\\Users\\user\\AppData\\Local\\Temp\\ipykernel_13012\\1624747734.py\", line 2, in Feature_Extraction_Model\n",
      "    wave, sr = librosa.load(file_path)\n",
      "  File \"c:\\Users\\user\\anaconda3\\envs\\Multimedia\\Lib\\site-packages\\lazy_loader\\__init__.py\", line 83, in __getattr__\n",
      "    attr = getattr(submod, name)\n",
      "  File \"c:\\Users\\user\\anaconda3\\envs\\Multimedia\\Lib\\site-packages\\lazy_loader\\__init__.py\", line 82, in __getattr__\n",
      "    submod = importlib.import_module(submod_path)\n",
      "  File \"c:\\Users\\user\\anaconda3\\envs\\Multimedia\\Lib\\importlib\\__init__.py\", line 126, in import_module\n",
      "    return _bootstrap._gcd_import(name[level:], package, level)\n",
      "  File \"c:\\Users\\user\\anaconda3\\envs\\Multimedia\\Lib\\site-packages\\librosa\\core\\audio.py\", line 15, in <module>\n",
      "    import soxr\n",
      "  File \"c:\\Users\\user\\anaconda3\\envs\\Multimedia\\Lib\\site-packages\\soxr\\__init__.py\", line 10, in <module>\n",
      "    from . import cysoxr\n"
     ]
    },
    {
     "ename": "ImportError",
     "evalue": "numpy.core.multiarray failed to import (auto-generated because you didn't call 'numpy.import_array()' after cimporting numpy; use '<void>numpy._import_array' to disable if you are certain you don't need it).",
     "output_type": "error",
     "traceback": [
      "\u001b[1;31m---------------------------------------------------------------------------\u001b[0m",
      "\u001b[1;31mImportError\u001b[0m                               Traceback (most recent call last)",
      "Cell \u001b[1;32mIn[11], line 7\u001b[0m\n\u001b[0;32m      3\u001b[0m t \u001b[38;5;241m=\u001b[39m \u001b[38;5;241m0\u001b[39m\n\u001b[0;32m      4\u001b[0m \u001b[38;5;28;01mfor\u001b[39;00m i \u001b[38;5;129;01min\u001b[39;00m \u001b[38;5;28mrange\u001b[39m(\u001b[38;5;241m5\u001b[39m):\n\u001b[0;32m      5\u001b[0m     \u001b[38;5;66;03m#x, y = load_audio('train_test_data/train_%d.txt' % (i+1), 'Wav2MFCC')\u001b[39;00m\n\u001b[0;32m      6\u001b[0m     \u001b[38;5;66;03m#x, y = load_audio('train_test_data/train_%d.txt' % (i+1), 'MelSpec')\u001b[39;00m\n\u001b[1;32m----> 7\u001b[0m     x, y \u001b[38;5;241m=\u001b[39m \u001b[43mload_audio\u001b[49m\u001b[43m(\u001b[49m\u001b[38;5;124;43m'\u001b[39;49m\u001b[38;5;124;43mtrain_test_data/train_\u001b[39;49m\u001b[38;5;132;43;01m%d\u001b[39;49;00m\u001b[38;5;124;43m.txt\u001b[39;49m\u001b[38;5;124;43m'\u001b[39;49m\u001b[43m \u001b[49m\u001b[38;5;241;43m%\u001b[39;49m\u001b[43m \u001b[49m\u001b[43m(\u001b[49m\u001b[43mi\u001b[49m\u001b[38;5;241;43m+\u001b[39;49m\u001b[38;5;241;43m1\u001b[39;49m\u001b[43m)\u001b[49m\u001b[43m,\u001b[49m\u001b[43m \u001b[49m\u001b[38;5;124;43m'\u001b[39;49m\u001b[38;5;124;43mSpecContrast\u001b[39;49m\u001b[38;5;124;43m'\u001b[39;49m\u001b[43m)\u001b[49m\n\u001b[0;32m      8\u001b[0m     \u001b[38;5;66;03m#x, y = load_audio('train_test_data/train_%d.txt' % (i+1), 'ZeroCross')\u001b[39;00m\n\u001b[0;32m      9\u001b[0m     \u001b[38;5;66;03m#x, y = load_audio('train_test_data/train_%d.txt' % (i+1), 'ChromaSTFT')\u001b[39;00m\n\u001b[0;32m     10\u001b[0m     t \u001b[38;5;241m+\u001b[39m\u001b[38;5;241m=\u001b[39m \u001b[38;5;241m1\u001b[39m\n",
      "Cell \u001b[1;32mIn[10], line 10\u001b[0m, in \u001b[0;36mload_audio\u001b[1;34m(f, method)\u001b[0m\n\u001b[0;32m      7\u001b[0m \u001b[38;5;28;01mfor\u001b[39;00m i \u001b[38;5;129;01min\u001b[39;00m \u001b[38;5;28mrange\u001b[39m(\u001b[38;5;28mlen\u001b[39m(lines)):\n\u001b[0;32m      8\u001b[0m     fn, label \u001b[38;5;241m=\u001b[39m lines[i]\u001b[38;5;241m.\u001b[39msplit(\u001b[38;5;124m'\u001b[39m\u001b[38;5;124m \u001b[39m\u001b[38;5;124m'\u001b[39m)\n\u001b[1;32m---> 10\u001b[0m     audio \u001b[38;5;241m=\u001b[39m \u001b[43mFeature_Extraction_Model\u001b[49m\u001b[43m(\u001b[49m\u001b[43mfn\u001b[49m\u001b[43m,\u001b[49m\u001b[43m \u001b[49m\u001b[43mmethod\u001b[49m\u001b[43m)\u001b[49m\n\u001b[0;32m     12\u001b[0m     \u001b[38;5;28;01mif\u001b[39;00m audio \u001b[38;5;129;01mis\u001b[39;00m \u001b[38;5;129;01mnot\u001b[39;00m \u001b[38;5;28;01mNone\u001b[39;00m:  \n\u001b[0;32m     13\u001b[0m         vec \u001b[38;5;241m=\u001b[39m np\u001b[38;5;241m.\u001b[39mreshape(audio, [\u001b[38;5;241m-\u001b[39m\u001b[38;5;241m1\u001b[39m]) \u001b[38;5;66;03m# flatten into 1D vector.\u001b[39;00m\n",
      "Cell \u001b[1;32mIn[8], line 2\u001b[0m, in \u001b[0;36mFeature_Extraction_Model\u001b[1;34m(file_path, method, max_pad_len)\u001b[0m\n\u001b[0;32m      1\u001b[0m \u001b[38;5;28;01mdef\u001b[39;00m \u001b[38;5;21mFeature_Extraction_Model\u001b[39m(file_path, method, max_pad_len\u001b[38;5;241m=\u001b[39m\u001b[38;5;241m11\u001b[39m):         \n\u001b[1;32m----> 2\u001b[0m     wave, sr \u001b[38;5;241m=\u001b[39m \u001b[43mlibrosa\u001b[49m\u001b[38;5;241;43m.\u001b[39;49m\u001b[43mload\u001b[49m(file_path)\n\u001b[0;32m      4\u001b[0m     shift \u001b[38;5;241m=\u001b[39m np\u001b[38;5;241m.\u001b[39mrandom\u001b[38;5;241m.\u001b[39muniform(\u001b[38;5;241m-\u001b[39m\u001b[38;5;241m0.2\u001b[39m, \u001b[38;5;241m0.2\u001b[39m) \u001b[38;5;241m*\u001b[39m \u001b[38;5;28mlen\u001b[39m(wave)\n\u001b[0;32m      5\u001b[0m     wave \u001b[38;5;241m=\u001b[39m  np\u001b[38;5;241m.\u001b[39mroll(wave, \u001b[38;5;28mint\u001b[39m(shift))\n",
      "File \u001b[1;32mc:\\Users\\user\\anaconda3\\envs\\Multimedia\\Lib\\site-packages\\lazy_loader\\__init__.py:83\u001b[0m, in \u001b[0;36mattach.<locals>.__getattr__\u001b[1;34m(name)\u001b[0m\n\u001b[0;32m     81\u001b[0m submod_path \u001b[38;5;241m=\u001b[39m \u001b[38;5;124mf\u001b[39m\u001b[38;5;124m\"\u001b[39m\u001b[38;5;132;01m{\u001b[39;00mpackage_name\u001b[38;5;132;01m}\u001b[39;00m\u001b[38;5;124m.\u001b[39m\u001b[38;5;132;01m{\u001b[39;00mattr_to_modules[name]\u001b[38;5;132;01m}\u001b[39;00m\u001b[38;5;124m\"\u001b[39m\n\u001b[0;32m     82\u001b[0m submod \u001b[38;5;241m=\u001b[39m importlib\u001b[38;5;241m.\u001b[39mimport_module(submod_path)\n\u001b[1;32m---> 83\u001b[0m attr \u001b[38;5;241m=\u001b[39m \u001b[38;5;28;43mgetattr\u001b[39;49m\u001b[43m(\u001b[49m\u001b[43msubmod\u001b[49m\u001b[43m,\u001b[49m\u001b[43m \u001b[49m\u001b[43mname\u001b[49m\u001b[43m)\u001b[49m\n\u001b[0;32m     85\u001b[0m \u001b[38;5;66;03m# If the attribute lives in a file (module) with the same\u001b[39;00m\n\u001b[0;32m     86\u001b[0m \u001b[38;5;66;03m# name as the attribute, ensure that the attribute and *not*\u001b[39;00m\n\u001b[0;32m     87\u001b[0m \u001b[38;5;66;03m# the module is accessible on the package.\u001b[39;00m\n\u001b[0;32m     88\u001b[0m \u001b[38;5;28;01mif\u001b[39;00m name \u001b[38;5;241m==\u001b[39m attr_to_modules[name]:\n",
      "File \u001b[1;32mc:\\Users\\user\\anaconda3\\envs\\Multimedia\\Lib\\site-packages\\lazy_loader\\__init__.py:82\u001b[0m, in \u001b[0;36mattach.<locals>.__getattr__\u001b[1;34m(name)\u001b[0m\n\u001b[0;32m     80\u001b[0m \u001b[38;5;28;01melif\u001b[39;00m name \u001b[38;5;129;01min\u001b[39;00m attr_to_modules:\n\u001b[0;32m     81\u001b[0m     submod_path \u001b[38;5;241m=\u001b[39m \u001b[38;5;124mf\u001b[39m\u001b[38;5;124m\"\u001b[39m\u001b[38;5;132;01m{\u001b[39;00mpackage_name\u001b[38;5;132;01m}\u001b[39;00m\u001b[38;5;124m.\u001b[39m\u001b[38;5;132;01m{\u001b[39;00mattr_to_modules[name]\u001b[38;5;132;01m}\u001b[39;00m\u001b[38;5;124m\"\u001b[39m\n\u001b[1;32m---> 82\u001b[0m     submod \u001b[38;5;241m=\u001b[39m \u001b[43mimportlib\u001b[49m\u001b[38;5;241;43m.\u001b[39;49m\u001b[43mimport_module\u001b[49m\u001b[43m(\u001b[49m\u001b[43msubmod_path\u001b[49m\u001b[43m)\u001b[49m\n\u001b[0;32m     83\u001b[0m     attr \u001b[38;5;241m=\u001b[39m \u001b[38;5;28mgetattr\u001b[39m(submod, name)\n\u001b[0;32m     85\u001b[0m     \u001b[38;5;66;03m# If the attribute lives in a file (module) with the same\u001b[39;00m\n\u001b[0;32m     86\u001b[0m     \u001b[38;5;66;03m# name as the attribute, ensure that the attribute and *not*\u001b[39;00m\n\u001b[0;32m     87\u001b[0m     \u001b[38;5;66;03m# the module is accessible on the package.\u001b[39;00m\n",
      "File \u001b[1;32mc:\\Users\\user\\anaconda3\\envs\\Multimedia\\Lib\\importlib\\__init__.py:126\u001b[0m, in \u001b[0;36mimport_module\u001b[1;34m(name, package)\u001b[0m\n\u001b[0;32m    124\u001b[0m             \u001b[38;5;28;01mbreak\u001b[39;00m\n\u001b[0;32m    125\u001b[0m         level \u001b[38;5;241m+\u001b[39m\u001b[38;5;241m=\u001b[39m \u001b[38;5;241m1\u001b[39m\n\u001b[1;32m--> 126\u001b[0m \u001b[38;5;28;01mreturn\u001b[39;00m \u001b[43m_bootstrap\u001b[49m\u001b[38;5;241;43m.\u001b[39;49m\u001b[43m_gcd_import\u001b[49m\u001b[43m(\u001b[49m\u001b[43mname\u001b[49m\u001b[43m[\u001b[49m\u001b[43mlevel\u001b[49m\u001b[43m:\u001b[49m\u001b[43m]\u001b[49m\u001b[43m,\u001b[49m\u001b[43m \u001b[49m\u001b[43mpackage\u001b[49m\u001b[43m,\u001b[49m\u001b[43m \u001b[49m\u001b[43mlevel\u001b[49m\u001b[43m)\u001b[49m\n",
      "File \u001b[1;32m<frozen importlib._bootstrap>:1204\u001b[0m, in \u001b[0;36m_gcd_import\u001b[1;34m(name, package, level)\u001b[0m\n",
      "File \u001b[1;32m<frozen importlib._bootstrap>:1176\u001b[0m, in \u001b[0;36m_find_and_load\u001b[1;34m(name, import_)\u001b[0m\n",
      "File \u001b[1;32m<frozen importlib._bootstrap>:1147\u001b[0m, in \u001b[0;36m_find_and_load_unlocked\u001b[1;34m(name, import_)\u001b[0m\n",
      "File \u001b[1;32m<frozen importlib._bootstrap>:690\u001b[0m, in \u001b[0;36m_load_unlocked\u001b[1;34m(spec)\u001b[0m\n",
      "File \u001b[1;32m<frozen importlib._bootstrap_external>:940\u001b[0m, in \u001b[0;36mexec_module\u001b[1;34m(self, module)\u001b[0m\n",
      "File \u001b[1;32m<frozen importlib._bootstrap>:241\u001b[0m, in \u001b[0;36m_call_with_frames_removed\u001b[1;34m(f, *args, **kwds)\u001b[0m\n",
      "File \u001b[1;32mc:\\Users\\user\\anaconda3\\envs\\Multimedia\\Lib\\site-packages\\librosa\\core\\audio.py:15\u001b[0m\n\u001b[0;32m     13\u001b[0m \u001b[38;5;28;01mimport\u001b[39;00m \u001b[38;5;21;01mscipy\u001b[39;00m\n\u001b[0;32m     14\u001b[0m \u001b[38;5;28;01mimport\u001b[39;00m \u001b[38;5;21;01mscipy\u001b[39;00m\u001b[38;5;21;01m.\u001b[39;00m\u001b[38;5;21;01msignal\u001b[39;00m\n\u001b[1;32m---> 15\u001b[0m \u001b[38;5;28;01mimport\u001b[39;00m \u001b[38;5;21;01msoxr\u001b[39;00m\n\u001b[0;32m     16\u001b[0m \u001b[38;5;28;01mimport\u001b[39;00m \u001b[38;5;21;01mlazy_loader\u001b[39;00m \u001b[38;5;28;01mas\u001b[39;00m \u001b[38;5;21;01mlazy\u001b[39;00m\n\u001b[0;32m     18\u001b[0m \u001b[38;5;28;01mfrom\u001b[39;00m \u001b[38;5;21;01mnumba\u001b[39;00m \u001b[38;5;28;01mimport\u001b[39;00m jit, stencil, guvectorize\n",
      "File \u001b[1;32mc:\\Users\\user\\anaconda3\\envs\\Multimedia\\Lib\\site-packages\\soxr\\__init__.py:10\u001b[0m\n\u001b[0;32m      6\u001b[0m \u001b[38;5;28;01mimport\u001b[39;00m \u001b[38;5;21;01mwarnings\u001b[39;00m\n\u001b[0;32m      8\u001b[0m \u001b[38;5;28;01mimport\u001b[39;00m \u001b[38;5;21;01mnumpy\u001b[39;00m \u001b[38;5;28;01mas\u001b[39;00m \u001b[38;5;21;01mnp\u001b[39;00m\n\u001b[1;32m---> 10\u001b[0m \u001b[38;5;28;01mfrom\u001b[39;00m \u001b[38;5;21;01m.\u001b[39;00m \u001b[38;5;28;01mimport\u001b[39;00m cysoxr\n\u001b[0;32m     11\u001b[0m \u001b[38;5;28;01mfrom\u001b[39;00m \u001b[38;5;21;01m.\u001b[39;00m\u001b[38;5;21;01mcysoxr\u001b[39;00m \u001b[38;5;28;01mimport\u001b[39;00m QQ, LQ, MQ, HQ, VHQ\n\u001b[0;32m     12\u001b[0m \u001b[38;5;28;01mfrom\u001b[39;00m \u001b[38;5;21;01m.\u001b[39;00m\u001b[38;5;21;01m_version\u001b[39;00m \u001b[38;5;28;01mimport\u001b[39;00m version \u001b[38;5;28;01mas\u001b[39;00m __version__\n",
      "File \u001b[1;32msrc\\\\soxr\\\\cysoxr.pyx:1\u001b[0m, in \u001b[0;36minit soxr.cysoxr\u001b[1;34m()\u001b[0m\n",
      "\u001b[1;31mImportError\u001b[0m: numpy.core.multiarray failed to import (auto-generated because you didn't call 'numpy.import_array()' after cimporting numpy; use '<void>numpy._import_array' to disable if you are certain you don't need it)."
     ]
    }
   ],
   "source": [
    "start = time.time()\n",
    "accuracy = []\n",
    "t = 0\n",
    "for i in range(5):\n",
    "    #x, y = load_audio('train_test_data/train_%d.txt' % (i+1), 'Wav2MFCC')\n",
    "    #x, y = load_audio('train_test_data/train_%d.txt' % (i+1), 'MelSpec')\n",
    "    x, y = load_audio('train_test_data/train_%d.txt' % (i+1), 'SpecContrast')\n",
    "    #x, y = load_audio('train_test_data/train_%d.txt' % (i+1), 'ZeroCross')\n",
    "    #x, y = load_audio('train_test_data/train_%d.txt' % (i+1), 'ChromaSTFT')\n",
    "    t += 1\n",
    "    print('\\r' + '[Progress]:|%s%s|%.2f%%;' % ('█' * int(t), ' ' * (10 - int(t)), float(t / 10 * 100)), end='')\n",
    "    \n",
    "    #tx, ty = load_audio('train_test_data/test_%d.txt' % (i+1), 'Wav2MFCC')\n",
    "    #tx, ty = load_audio('train_test_data/test_%d.txt' % (i+1), 'MelSpec')\n",
    "    tx, ty = load_audio('train_test_data/test_%d.txt' % (i+1), 'SpecContrast')\n",
    "    #tx, ty = load_audio('train_test_data/test_%d.txt' % (i+1), 'ZeroCross')\n",
    "    #tx, ty = load_audio('train_test_data/test_%d.txt' % (i+1), 'ChromaSTFT')\n",
    "    t += 1\n",
    "    print('\\r' + '[Progress]:|%s%s|%.2f%%;' % ('█' * int(t), ' ' * (10 - int(t)), float(t / 10 * 100)), end='')\n",
    "    \n",
    "    \n",
    "    #accuracy.append(KNN(x, y, tx, ty))\n",
    "    accuracy.append(SVM(x, y, tx, ty))\n",
    "    #accuracy.append(Random_Forest(x, y, tx, ty))\n",
    "\n",
    "end = time.time()\n",
    "\n",
    "print('\\nAccuracy: ', np.mean(accuracy))\n",
    "print('Time: %f sec' %(end - start))"
   ]
  }
 ],
 "metadata": {
  "kernelspec": {
   "display_name": "Python 3",
   "language": "python",
   "name": "python3"
  },
  "language_info": {
   "codemirror_mode": {
    "name": "ipython",
    "version": 3
   },
   "file_extension": ".py",
   "mimetype": "text/x-python",
   "name": "python",
   "nbconvert_exporter": "python",
   "pygments_lexer": "ipython3",
   "version": "3.11.9"
  }
 },
 "nbformat": 4,
 "nbformat_minor": 5
}
